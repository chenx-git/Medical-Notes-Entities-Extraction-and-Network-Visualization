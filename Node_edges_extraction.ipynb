{
 "cells": [
  {
   "cell_type": "markdown",
   "metadata": {},
   "source": [
    "# Medical Note entity extraction and Node & Edge generations "
   ]
  },
  {
   "cell_type": "markdown",
   "metadata": {},
   "source": [
    "Data Source---https://www.kaggle.com/c/medical-notes/data"
   ]
  },
  {
   "cell_type": "code",
   "execution_count": 149,
   "metadata": {},
   "outputs": [
    {
     "name": "stdout",
     "output_type": "stream",
     "text": [
      "The test time:  2021-03-03 14:02:40.618920\n"
     ]
    }
   ],
   "source": [
    "import pandas as pd \n",
    "import itertools\n",
    "import numpy as np \n",
    "import datetime\n",
    "from IPython.display import display\n",
    "\n",
    "import matplotlib.pyplot as plt \n",
    "import re\n",
    "import string\n",
    "\n",
    "import nltk\n",
    "\n",
    "from nltk.tokenize import sent_tokenize\n",
    "from nltk.corpus import words\n",
    "from nltk.corpus import stopwords\n",
    "from nltk.tokenize import word_tokenize\n",
    "from nltk.stem import WordNetLemmatizer\n",
    "from nltk.stem import PorterStemmer\n",
    "\n",
    "from collections import Counter\n",
    "\n",
    "from matplotlib import pyplot as plt\n",
    "from matplotlib import ticker\n",
    "import seaborn as sns\n",
    "import plotly.express as px\n",
    "\n",
    "sns.set(style=\"darkgrid\")\n",
    "\n",
    "from sklearn.feature_extraction.text import CountVectorizer\n",
    "from sklearn.metrics.pairwise import cosine_similarity\n",
    "from sklearn.cluster import DBSCAN\n",
    "\n",
    "from spacy.matcher import Matcher \n",
    "from spacy.tokens import Span \n",
    "\n",
    "\n",
    "from tqdm import tqdm\n",
    "import re\n",
    "import networkx as nx\n",
    "\n",
    "import gensim\n",
    "import spacy\n",
    "import os\n",
    "import gc\n",
    "import glob\n",
    "print('The test time: ',datetime.datetime.now())"
   ]
  },
  {
   "cell_type": "code",
   "execution_count": 150,
   "metadata": {},
   "outputs": [],
   "source": [
    "df_list=[]\n",
    "def read_text_file(): \n",
    "    path=os.getcwd()\n",
    "    for file in os.listdir(): \n",
    "        # Check whether file is in text format or not \n",
    "        if file.endswith(\".txt\"): \n",
    "            file_path = f\"{path}/{file}\"\n",
    "            with open(file_path, 'r', encoding='latin1') as f: \n",
    "                read_text=f.read()\n",
    "                df_list.append(read_text)"
   ]
  },
  {
   "cell_type": "code",
   "execution_count": 151,
   "metadata": {},
   "outputs": [],
   "source": [
    "read_text_file()"
   ]
  },
  {
   "cell_type": "code",
   "execution_count": 152,
   "metadata": {},
   "outputs": [
    {
     "data": {
      "text/html": [
       "<div>\n",
       "<style scoped>\n",
       "    .dataframe tbody tr th:only-of-type {\n",
       "        vertical-align: middle;\n",
       "    }\n",
       "\n",
       "    .dataframe tbody tr th {\n",
       "        vertical-align: top;\n",
       "    }\n",
       "\n",
       "    .dataframe thead th {\n",
       "        text-align: right;\n",
       "    }\n",
       "</style>\n",
       "<table border=\"1\" class=\"dataframe\">\n",
       "  <thead>\n",
       "    <tr style=\"text-align: right;\">\n",
       "      <th></th>\n",
       "      <th>medical_note</th>\n",
       "    </tr>\n",
       "  </thead>\n",
       "  <tbody>\n",
       "    <tr>\n",
       "      <th>0</th>\n",
       "      <td>\\n\\n\\n\\n\\n&lt;B&gt;EXAM:&lt;/B&gt;  CT Abdomen &amp; Pelvis W&amp;...</td>\n",
       "    </tr>\n",
       "    <tr>\n",
       "      <th>1</th>\n",
       "      <td>\\n\\n\\n\\n\\n&lt;B&gt;PREOPERATIVE DIAGNOSIS:&lt;/B&gt;  Prot...</td>\n",
       "    </tr>\n",
       "    <tr>\n",
       "      <th>2</th>\n",
       "      <td>\\n\\n\\n\\n\\n&lt;B&gt;PROCEDURE:&lt;/B&gt;  Upper endoscopy.\\...</td>\n",
       "    </tr>\n",
       "    <tr>\n",
       "      <th>3</th>\n",
       "      <td>\\n\\n\\n\\n\\n&lt;B&gt;REASON FOR CONSULTATION: &lt;/B&gt; Pos...</td>\n",
       "    </tr>\n",
       "    <tr>\n",
       "      <th>4</th>\n",
       "      <td>\\n\\n\\n\\n\\n&lt;B&gt;PREOPERATIVE DIAGNOSES:&lt;/B&gt;\\n1.  ...</td>\n",
       "    </tr>\n",
       "    <tr>\n",
       "      <th>...</th>\n",
       "      <td>...</td>\n",
       "    </tr>\n",
       "    <tr>\n",
       "      <th>152</th>\n",
       "      <td>\\n\\n\\n\\n\\n&lt;B&gt;PREPROCEDURE DIAGNOSIS:&lt;/B&gt;  Chan...</td>\n",
       "    </tr>\n",
       "    <tr>\n",
       "      <th>153</th>\n",
       "      <td>\\n\\n\\n\\n\\n&lt;B&gt;PROCEDURE:&lt;/B&gt; Upper endoscopy wi...</td>\n",
       "    </tr>\n",
       "    <tr>\n",
       "      <th>154</th>\n",
       "      <td>\\n\\n\\n\\n\\n&lt;B&gt;&lt;B&gt;CHIEF COMPLAINT:&lt;/B&gt;&lt;/B&gt; Stoma...</td>\n",
       "    </tr>\n",
       "    <tr>\n",
       "      <th>155</th>\n",
       "      <td>\\n\\n\\n\\n\\n&lt;B&gt;EXAM: &lt;/B&gt; CT abdomen without con...</td>\n",
       "    </tr>\n",
       "    <tr>\n",
       "      <th>156</th>\n",
       "      <td>\\n\\n\\n\\n\\n&lt;B&gt;PREOPERATIVE DIAGNOSIS:&lt;/B&gt;  Iron...</td>\n",
       "    </tr>\n",
       "  </tbody>\n",
       "</table>\n",
       "<p>157 rows × 1 columns</p>\n",
       "</div>"
      ],
      "text/plain": [
       "                                          medical_note\n",
       "0    \\n\\n\\n\\n\\n<B>EXAM:</B>  CT Abdomen & Pelvis W&...\n",
       "1    \\n\\n\\n\\n\\n<B>PREOPERATIVE DIAGNOSIS:</B>  Prot...\n",
       "2    \\n\\n\\n\\n\\n<B>PROCEDURE:</B>  Upper endoscopy.\\...\n",
       "3    \\n\\n\\n\\n\\n<B>REASON FOR CONSULTATION: </B> Pos...\n",
       "4    \\n\\n\\n\\n\\n<B>PREOPERATIVE DIAGNOSES:</B>\\n1.  ...\n",
       "..                                                 ...\n",
       "152  \\n\\n\\n\\n\\n<B>PREPROCEDURE DIAGNOSIS:</B>  Chan...\n",
       "153  \\n\\n\\n\\n\\n<B>PROCEDURE:</B> Upper endoscopy wi...\n",
       "154  \\n\\n\\n\\n\\n<B><B>CHIEF COMPLAINT:</B></B> Stoma...\n",
       "155  \\n\\n\\n\\n\\n<B>EXAM: </B> CT abdomen without con...\n",
       "156  \\n\\n\\n\\n\\n<B>PREOPERATIVE DIAGNOSIS:</B>  Iron...\n",
       "\n",
       "[157 rows x 1 columns]"
      ]
     },
     "execution_count": 152,
     "metadata": {},
     "output_type": "execute_result"
    }
   ],
   "source": [
    "df=pd.DataFrame(df_list,columns=['medical_note'])\n",
    "df"
   ]
  },
  {
   "cell_type": "code",
   "execution_count": 153,
   "metadata": {},
   "outputs": [
    {
     "data": {
      "text/plain": [
       "0"
      ]
     },
     "execution_count": 153,
     "metadata": {},
     "output_type": "execute_result"
    }
   ],
   "source": [
    "df.isnull().sum().sum()"
   ]
  },
  {
   "cell_type": "markdown",
   "metadata": {},
   "source": [
    "## 1. Clean the text"
   ]
  },
  {
   "cell_type": "code",
   "execution_count": 155,
   "metadata": {},
   "outputs": [
    {
     "name": "stdout",
     "output_type": "stream",
     "text": [
      "Total number of notes:  157\n"
     ]
    }
   ],
   "source": [
    "p_remove=re.compile('(\\n|<B>|</B>)') \n",
    "note=df.medical_note\n",
    "\n",
    "i=0\n",
    "for note_1 in note:\n",
    "    note_1=p_remove.sub(\"\",note_1)\n",
    "    note[i]=note_1\n",
    "    i=i+1\n",
    "\n",
    "print('Total number of notes: ',len(note))"
   ]
  },
  {
   "cell_type": "code",
   "execution_count": 156,
   "metadata": {},
   "outputs": [
    {
     "data": {
      "text/plain": [
       "0      exam:  ct abdomen & pelvis w&wo contrast reaso...\n",
       "1      preoperative diagnosis:  protein-calorie malnu...\n",
       "2      procedure:  upper endoscopy.preoperative diagn...\n",
       "3      reason for consultation:  possible free air un...\n",
       "4      preoperative diagnoses:1.  gastroesophageal re...\n",
       "                             ...                        \n",
       "152    preprocedure diagnosis:  change in bowel funct...\n",
       "153    procedure: upper endoscopy with foreign body r...\n",
       "154    chief complaint: stomach pain for 2 weeks.hist...\n",
       "155    exam:  ct abdomen without contrast and pelvis ...\n",
       "156    preoperative diagnosis:  iron deficiency anemi...\n",
       "Name: medical_note, Length: 157, dtype: object"
      ]
     },
     "execution_count": 156,
     "metadata": {},
     "output_type": "execute_result"
    }
   ],
   "source": [
    "# convert to lower cases\n",
    "to_lower=lambda x: x.lower()\n",
    "note_lc=note.apply(to_lower)\n",
    "note_lc"
   ]
  },
  {
   "cell_type": "code",
   "execution_count": 157,
   "metadata": {},
   "outputs": [
    {
     "data": {
      "text/plain": [
       "'preoperative diagnosis:  protein-calorie malnutrition.postoperative diagnosis:  protein-calorie malnutrition.procedure performed: percutaneous endoscopic gastrostomy (peg) tube.anesthesia:  conscious sedation per anesthesia.specimen:  none.complications:  none.history:  the patient is a 73-year-old male who was admitted to the hospital with some mentation changes.  he was unable to sustain enough caloric intake and had markedly decreased albumin stores.  after discussion with the patient and the son, they agreed to place a peg tube for nutritional supplementation.procedure:  after informed consent was obtained, the patient was brought to the endoscopy suite.  he was placed in the supine position and was given iv sedation by the anesthesia department.  an egd was performed from above by dr. x.  the stomach was transilluminated and an optimal position for the peg tube was identified using the single poke method.  the skin was infiltrated with local and the needle and sheath were inserted through the abdomen into the stomach under direct visualization.  the needle was removed and a guidewire was inserted through the sheath.  the guidewire was grasped from above with a snare by the endoscopist.  it was removed completely and the ponsky peg tube was secured to the guidewire.the guidewire and peg tube were then pulled through the mouth and esophagus and snug to the abdominal wall.  there was no evidence of bleeding.  photos were taken.  the bolster was placed on the peg site.  a complete dictation for the egd will be done separately by dr. x.  the patient tolerated the procedure well and was transferred to recovery room in stable condition.  he will be started on tube feedings in 6 hours with aspiration precautions and dietary to determine his nutritional goal.'"
      ]
     },
     "execution_count": 157,
     "metadata": {},
     "output_type": "execute_result"
    }
   ],
   "source": [
    "note_clean=note_lc\n",
    "note_clean[1]"
   ]
  },
  {
   "cell_type": "markdown",
   "metadata": {},
   "source": [
    "## 2. NLP "
   ]
  },
  {
   "cell_type": "code",
   "execution_count": 12,
   "metadata": {},
   "outputs": [],
   "source": [
    "import scispacy\n",
    "import spacy\n",
    "\n",
    "import en_core_sci_sm   #The model we are going to use\n",
    "import en_core_sci_scibert\n",
    "from spacy import displacy\n",
    "from scispacy.abbreviation import AbbreviationDetector\n",
    "from scispacy.umls_linking import UmlsEntityLinker"
   ]
  },
  {
   "cell_type": "markdown",
   "metadata": {},
   "source": [
    "## 2.1 Dependency parsing"
   ]
  },
  {
   "cell_type": "code",
   "execution_count": 13,
   "metadata": {},
   "outputs": [],
   "source": [
    "nlp = spacy.load(\"en_core_sci_sm\") "
   ]
  },
  {
   "cell_type": "code",
   "execution_count": 14,
   "metadata": {},
   "outputs": [],
   "source": [
    "text=note_clean[0]\n",
    "sents=[]\n",
    "doc = nlp(text)\n",
    "for sent in doc.sents:\n",
    "    sent=sent.text\n",
    "    sents.append(sent)"
   ]
  },
  {
   "cell_type": "code",
   "execution_count": 15,
   "metadata": {},
   "outputs": [
    {
     "name": "stdout",
     "output_type": "stream",
     "text": [
      "len of sents is:  31\n"
     ]
    }
   ],
   "source": [
    "print('len of sents is: ', len(sents))"
   ]
  },
  {
   "cell_type": "raw",
   "metadata": {},
   "source": [
    "from spacy import displacy\n",
    "displacy.render(next(doc.sents), style='dep', jupyter=True)"
   ]
  },
  {
   "cell_type": "code",
   "execution_count": 16,
   "metadata": {},
   "outputs": [],
   "source": [
    "chunks=[]\n",
    "\n",
    "chunk_dep=[]\n",
    "chunk_root=[]\n",
    "for sent in sents:\n",
    "    doc=nlp(sent)\n",
    "\n",
    "    for chunk in doc.noun_chunks:\n",
    "        chunks.append(chunk.root.text),\n",
    "        chunk_dep.append(chunk.root.dep_)\n",
    "        chunk_root.append(chunk.root.head.text)\n",
    "\n",
    "chunk_d_root=pd.DataFrame(np.column_stack([chunks,chunk_dep,chunk_root]),columns=['noun','dep','root'])\n"
   ]
  },
  {
   "cell_type": "code",
   "execution_count": 17,
   "metadata": {},
   "outputs": [
    {
     "data": {
      "text/html": [
       "<div>\n",
       "<style scoped>\n",
       "    .dataframe tbody tr th:only-of-type {\n",
       "        vertical-align: middle;\n",
       "    }\n",
       "\n",
       "    .dataframe tbody tr th {\n",
       "        vertical-align: top;\n",
       "    }\n",
       "\n",
       "    .dataframe thead th {\n",
       "        text-align: right;\n",
       "    }\n",
       "</style>\n",
       "<table border=\"1\" class=\"dataframe\">\n",
       "  <thead>\n",
       "    <tr style=\"text-align: right;\">\n",
       "      <th></th>\n",
       "      <th>noun</th>\n",
       "      <th>dep</th>\n",
       "      <th>root</th>\n",
       "    </tr>\n",
       "  </thead>\n",
       "  <tbody>\n",
       "    <tr>\n",
       "      <th>0</th>\n",
       "      <td>exam</td>\n",
       "      <td>ROOT</td>\n",
       "      <td>exam</td>\n",
       "    </tr>\n",
       "    <tr>\n",
       "      <th>1</th>\n",
       "      <td>abdomen</td>\n",
       "      <td>appos</td>\n",
       "      <td>exam</td>\n",
       "    </tr>\n",
       "    <tr>\n",
       "      <th>2</th>\n",
       "      <td>reason</td>\n",
       "      <td>conj</td>\n",
       "      <td>abdomen</td>\n",
       "    </tr>\n",
       "    <tr>\n",
       "      <th>3</th>\n",
       "      <td>repair</td>\n",
       "      <td>appos</td>\n",
       "      <td>abdomen</td>\n",
       "    </tr>\n",
       "    <tr>\n",
       "      <th>4</th>\n",
       "      <td>technique</td>\n",
       "      <td>nsubjpass</td>\n",
       "      <td>performed</td>\n",
       "    </tr>\n",
       "    <tr>\n",
       "      <th>5</th>\n",
       "      <td>scanning</td>\n",
       "      <td>nsubjpass</td>\n",
       "      <td>performed</td>\n",
       "    </tr>\n",
       "    <tr>\n",
       "      <th>6</th>\n",
       "      <td>enhancement</td>\n",
       "      <td>dobj</td>\n",
       "      <td>utilizing</td>\n",
       "    </tr>\n",
       "    <tr>\n",
       "      <th>7</th>\n",
       "      <td>contrast</td>\n",
       "      <td>nsubjpass</td>\n",
       "      <td>utilized</td>\n",
       "    </tr>\n",
       "    <tr>\n",
       "      <th>8</th>\n",
       "      <td>comparison</td>\n",
       "      <td>nsubjpass</td>\n",
       "      <td>made</td>\n",
       "    </tr>\n",
       "    <tr>\n",
       "      <th>9</th>\n",
       "      <td>change</td>\n",
       "      <td>attr</td>\n",
       "      <td>been</td>\n",
       "    </tr>\n",
       "    <tr>\n",
       "      <th>10</th>\n",
       "      <td>dimensions</td>\n",
       "      <td>dobj</td>\n",
       "      <td>has</td>\n",
       "    </tr>\n",
       "    <tr>\n",
       "      <th>11</th>\n",
       "      <td>top</td>\n",
       "      <td>ROOT</td>\n",
       "      <td>top</td>\n",
       "    </tr>\n",
       "    <tr>\n",
       "      <th>12</th>\n",
       "      <td>size</td>\n",
       "      <td>nsubj</td>\n",
       "      <td>stable</td>\n",
       "    </tr>\n",
       "    <tr>\n",
       "      <th>13</th>\n",
       "      <td>endolumen</td>\n",
       "      <td>dobj</td>\n",
       "      <td>surrounding</td>\n",
       "    </tr>\n",
       "    <tr>\n",
       "      <th>14</th>\n",
       "      <td>entrance</td>\n",
       "      <td>attr</td>\n",
       "      <td>is</td>\n",
       "    </tr>\n",
       "    <tr>\n",
       "      <th>15</th>\n",
       "      <td>leak</td>\n",
       "      <td>dobj</td>\n",
       "      <td>indicate</td>\n",
       "    </tr>\n",
       "    <tr>\n",
       "      <th>16</th>\n",
       "      <td>extension</td>\n",
       "      <td>attr</td>\n",
       "      <td>is</td>\n",
       "    </tr>\n",
       "    <tr>\n",
       "      <th>17</th>\n",
       "      <td>leakage</td>\n",
       "      <td>nsubjpass</td>\n",
       "      <td>identified</td>\n",
       "    </tr>\n",
       "    <tr>\n",
       "      <th>18</th>\n",
       "      <td>hematoma</td>\n",
       "      <td>attr</td>\n",
       "      <td>is</td>\n",
       "    </tr>\n",
       "    <tr>\n",
       "      <th>19</th>\n",
       "      <td>findings</td>\n",
       "      <td>nsubjpass</td>\n",
       "      <td>unchanged</td>\n",
       "    </tr>\n",
       "    <tr>\n",
       "      <th>20</th>\n",
       "      <td>atrophy</td>\n",
       "      <td>attr</td>\n",
       "      <td>is</td>\n",
       "    </tr>\n",
       "    <tr>\n",
       "      <th>21</th>\n",
       "      <td>hydronephrosis</td>\n",
       "      <td>nsubj</td>\n",
       "      <td>present</td>\n",
       "    </tr>\n",
       "    <tr>\n",
       "      <th>22</th>\n",
       "      <td>findings</td>\n",
       "      <td>nsubjpass</td>\n",
       "      <td>identified</td>\n",
       "    </tr>\n",
       "    <tr>\n",
       "      <th>23</th>\n",
       "      <td>bases</td>\n",
       "      <td>nsubj</td>\n",
       "      <td>clear</td>\n",
       "    </tr>\n",
       "    <tr>\n",
       "      <th>24</th>\n",
       "      <td>remainder</td>\n",
       "      <td>dobj</td>\n",
       "      <td>concerning</td>\n",
       "    </tr>\n",
       "    <tr>\n",
       "      <th>25</th>\n",
       "      <td>pathology</td>\n",
       "      <td>nsubjpass</td>\n",
       "      <td>identified</td>\n",
       "    </tr>\n",
       "    <tr>\n",
       "      <th>26</th>\n",
       "      <td>artifact</td>\n",
       "      <td>attr</td>\n",
       "      <td>is</td>\n",
       "    </tr>\n",
       "    <tr>\n",
       "      <th>27</th>\n",
       "      <td>diverticulosis</td>\n",
       "      <td>attr</td>\n",
       "      <td>is</td>\n",
       "    </tr>\n",
       "    <tr>\n",
       "      <th>28</th>\n",
       "      <td>bladder</td>\n",
       "      <td>nsubj</td>\n",
       "      <td>appears</td>\n",
       "    </tr>\n",
       "    <tr>\n",
       "      <th>29</th>\n",
       "      <td>hysterectomy</td>\n",
       "      <td>nsubjpass</td>\n",
       "      <td>performed</td>\n",
       "    </tr>\n",
       "    <tr>\n",
       "      <th>30</th>\n",
       "      <td>impression:1</td>\n",
       "      <td>ROOT</td>\n",
       "      <td>impression:1</td>\n",
       "    </tr>\n",
       "    <tr>\n",
       "      <th>31</th>\n",
       "      <td>complications</td>\n",
       "      <td>nsubj</td>\n",
       "      <td>identified</td>\n",
       "    </tr>\n",
       "    <tr>\n",
       "      <th>32</th>\n",
       "      <td>findings</td>\n",
       "      <td>nsubj</td>\n",
       "      <td>stable</td>\n",
       "    </tr>\n",
       "    <tr>\n",
       "      <th>33</th>\n",
       "      <td>aneurysm</td>\n",
       "      <td>nsubj</td>\n",
       "      <td>centered</td>\n",
       "    </tr>\n",
       "    <tr>\n",
       "      <th>34</th>\n",
       "      <td>findings</td>\n",
       "      <td>nsubj</td>\n",
       "      <td>noted</td>\n",
       "    </tr>\n",
       "    <tr>\n",
       "      <th>35</th>\n",
       "      <td>atrophy</td>\n",
       "      <td>dobj</td>\n",
       "      <td>left</td>\n",
       "    </tr>\n",
       "  </tbody>\n",
       "</table>\n",
       "</div>"
      ],
      "text/plain": [
       "              noun        dep          root\n",
       "0             exam       ROOT          exam\n",
       "1          abdomen      appos          exam\n",
       "2           reason       conj       abdomen\n",
       "3           repair      appos       abdomen\n",
       "4        technique  nsubjpass     performed\n",
       "5         scanning  nsubjpass     performed\n",
       "6      enhancement       dobj     utilizing\n",
       "7         contrast  nsubjpass      utilized\n",
       "8       comparison  nsubjpass          made\n",
       "9           change       attr          been\n",
       "10      dimensions       dobj           has\n",
       "11             top       ROOT           top\n",
       "12            size      nsubj        stable\n",
       "13       endolumen       dobj   surrounding\n",
       "14        entrance       attr            is\n",
       "15            leak       dobj      indicate\n",
       "16       extension       attr            is\n",
       "17         leakage  nsubjpass    identified\n",
       "18        hematoma       attr            is\n",
       "19        findings  nsubjpass     unchanged\n",
       "20         atrophy       attr            is\n",
       "21  hydronephrosis      nsubj       present\n",
       "22        findings  nsubjpass    identified\n",
       "23           bases      nsubj         clear\n",
       "24       remainder       dobj    concerning\n",
       "25       pathology  nsubjpass    identified\n",
       "26        artifact       attr            is\n",
       "27  diverticulosis       attr            is\n",
       "28         bladder      nsubj       appears\n",
       "29    hysterectomy  nsubjpass     performed\n",
       "30    impression:1       ROOT  impression:1\n",
       "31   complications      nsubj    identified\n",
       "32        findings      nsubj        stable\n",
       "33        aneurysm      nsubj      centered\n",
       "34        findings      nsubj         noted\n",
       "35         atrophy       dobj          left"
      ]
     },
     "execution_count": 17,
     "metadata": {},
     "output_type": "execute_result"
    }
   ],
   "source": [
    "chunk_d_root"
   ]
  },
  {
   "cell_type": "code",
   "execution_count": 20,
   "metadata": {},
   "outputs": [],
   "source": [
    "def create_table(nlp,document):\n",
    "    doc=nlp(document)\n",
    "    values={}\n",
    "    for x in doc.ents:\n",
    "        values[x.text]=x.label_\n",
    "    return values\n"
   ]
  },
  {
   "cell_type": "markdown",
   "metadata": {},
   "source": [
    "## 2.2 Entities Extractions "
   ]
  },
  {
   "cell_type": "code",
   "execution_count": 21,
   "metadata": {},
   "outputs": [],
   "source": [
    "#NER specific models\n",
    "import en_ner_craft_md\n",
    "import en_ner_bc5cdr_md\n",
    "import en_ner_jnlpba_md\n",
    "import en_ner_bionlp13cg_md"
   ]
  },
  {
   "cell_type": "code",
   "execution_count": 22,
   "metadata": {},
   "outputs": [],
   "source": [
    "nlp_cr = en_ner_craft_md.load()\n",
    "nlp_bc = en_ner_bc5cdr_md.load()\n",
    "nlp_bi = en_ner_bionlp13cg_md.load()\n",
    "nlp_jn = en_ner_jnlpba_md.load()"
   ]
  },
  {
   "cell_type": "code",
   "execution_count": 23,
   "metadata": {},
   "outputs": [],
   "source": [
    "doc=nlp(text)"
   ]
  },
  {
   "cell_type": "code",
   "execution_count": 24,
   "metadata": {},
   "outputs": [],
   "source": [
    "def add_bc(abstractList, doiList):\n",
    "    i = 0\n",
    "    table= {\"doi\":[], \"Entity\":[], \"Class\":[]}\n",
    "    for doc in nlp_bc.pipe(abstractList):\n",
    "        doi = doiList[i]\n",
    "        for x in doc.ents:\n",
    "          table[\"doi\"].append(doi)\n",
    "          table[\"Entity\"].append(x.text)\n",
    "          table[\"Class\"].append(x.label_)\n",
    "        i +=1\n",
    "    return table"
   ]
  },
  {
   "cell_type": "code",
   "execution_count": 25,
   "metadata": {},
   "outputs": [],
   "source": [
    "#Create lists\n",
    "doiList = df.index.tolist()\n",
    "abstractList = note_clean\n",
    "\n",
    "#Add all entity value pairs to table (run one at a time, each ones takes ~20 min)\n",
    "\n",
    "\n",
    "table = add_bc(abstractList, doiList)\n",
    "\n",
    "\n",
    "\n",
    "#Turn table into an exportable CSV file (returns normalized file of entity/value pairs)\n",
    "trans_df = pd.DataFrame(table)\n",
    "trans_df.to_csv (\"Entity_all.csv\", index=False)"
   ]
  },
  {
   "cell_type": "code",
   "execution_count": 26,
   "metadata": {},
   "outputs": [],
   "source": [
    "disease_df=trans_df.loc[trans_df.Class=='DISEASE']"
   ]
  },
  {
   "cell_type": "code",
   "execution_count": 27,
   "metadata": {},
   "outputs": [],
   "source": [
    "disease_lst=list(disease_df.Entity.unique())"
   ]
  },
  {
   "cell_type": "code",
   "execution_count": 28,
   "metadata": {},
   "outputs": [
    {
     "data": {
      "text/plain": [
       "737"
      ]
     },
     "execution_count": 28,
     "metadata": {},
     "output_type": "execute_result"
    }
   ],
   "source": [
    "len(disease_lst)"
   ]
  },
  {
   "cell_type": "code",
   "execution_count": 29,
   "metadata": {},
   "outputs": [],
   "source": [
    "disease_count=disease_df['Entity'].value_counts()"
   ]
  },
  {
   "cell_type": "code",
   "execution_count": 30,
   "metadata": {},
   "outputs": [],
   "source": [
    "disease_count=pd.DataFrame(disease_count)\n",
    "disease_count=disease_count.loc[disease_count.Entity>4]"
   ]
  },
  {
   "cell_type": "code",
   "execution_count": 31,
   "metadata": {},
   "outputs": [],
   "source": [
    "disease_frq=disease_count.Entity"
   ]
  },
  {
   "cell_type": "code",
   "execution_count": 32,
   "metadata": {},
   "outputs": [
    {
     "data": {
      "text/plain": [
       "86"
      ]
     },
     "execution_count": 32,
     "metadata": {},
     "output_type": "execute_result"
    }
   ],
   "source": [
    "freq_disease=list(disease_count.index)\n",
    "len(freq_disease)"
   ]
  },
  {
   "cell_type": "code",
   "execution_count": 33,
   "metadata": {},
   "outputs": [
    {
     "data": {
      "text/plain": [
       "<BarContainer object of 7 artists>"
      ]
     },
     "execution_count": 33,
     "metadata": {},
     "output_type": "execute_result"
    },
    {
     "data": {
      "image/png": "[encoded data removed]",
      "text/plain": [
       "<Figure size 864x432 with 1 Axes>"
      ]
     },
     "metadata": {},
     "output_type": "display_data"
    }
   ],
   "source": [
    "fig,ax= plt.subplots(figsize=(12,6))\n",
    "ax.bar(freq_disease[:7],disease_frq[:7])\n"
   ]
  },
  {
   "cell_type": "code",
   "execution_count": 34,
   "metadata": {},
   "outputs": [],
   "source": [
    "def add_bi(abstractList, doiList):\n",
    "    i = 0\n",
    "    table= {\"doi\":[], \"Entity\":[], \"Class\":[]}\n",
    "    for doc in nlp_bi.pipe(abstractList):\n",
    "        doi = doiList[i]\n",
    "        for x in doc.ents:\n",
    "          table[\"doi\"].append(doi)\n",
    "          table[\"Entity\"].append(x.text)\n",
    "          table[\"Class\"].append(x.label_)\n",
    "        i +=1\n",
    "    return table"
   ]
  },
  {
   "cell_type": "code",
   "execution_count": 35,
   "metadata": {},
   "outputs": [
    {
     "data": {
      "text/html": [
       "<div>\n",
       "<style scoped>\n",
       "    .dataframe tbody tr th:only-of-type {\n",
       "        vertical-align: middle;\n",
       "    }\n",
       "\n",
       "    .dataframe tbody tr th {\n",
       "        vertical-align: top;\n",
       "    }\n",
       "\n",
       "    .dataframe thead th {\n",
       "        text-align: right;\n",
       "    }\n",
       "</style>\n",
       "<table border=\"1\" class=\"dataframe\">\n",
       "  <thead>\n",
       "    <tr style=\"text-align: right;\">\n",
       "      <th></th>\n",
       "      <th>doi</th>\n",
       "      <th>Entity</th>\n",
       "      <th>Class</th>\n",
       "    </tr>\n",
       "  </thead>\n",
       "  <tbody>\n",
       "    <tr>\n",
       "      <th>0</th>\n",
       "      <td>0</td>\n",
       "      <td>abdomen</td>\n",
       "      <td>ORGAN</td>\n",
       "    </tr>\n",
       "    <tr>\n",
       "      <th>1</th>\n",
       "      <td>0</td>\n",
       "      <td>pelvis w&amp;wo</td>\n",
       "      <td>CANCER</td>\n",
       "    </tr>\n",
       "    <tr>\n",
       "      <th>2</th>\n",
       "      <td>0</td>\n",
       "      <td>graft</td>\n",
       "      <td>TISSUE</td>\n",
       "    </tr>\n",
       "    <tr>\n",
       "      <th>3</th>\n",
       "      <td>0</td>\n",
       "      <td>abdomen</td>\n",
       "      <td>ORGAN</td>\n",
       "    </tr>\n",
       "    <tr>\n",
       "      <th>4</th>\n",
       "      <td>0</td>\n",
       "      <td>pelvis</td>\n",
       "      <td>ORGAN</td>\n",
       "    </tr>\n",
       "    <tr>\n",
       "      <th>...</th>\n",
       "      <td>...</td>\n",
       "      <td>...</td>\n",
       "      <td>...</td>\n",
       "    </tr>\n",
       "    <tr>\n",
       "      <th>6273</th>\n",
       "      <td>156</td>\n",
       "      <td>sigmoid colon</td>\n",
       "      <td>TISSUE</td>\n",
       "    </tr>\n",
       "    <tr>\n",
       "      <th>6274</th>\n",
       "      <td>156</td>\n",
       "      <td>inflammation</td>\n",
       "      <td>PATHOLOGICAL_FORMATION</td>\n",
       "    </tr>\n",
       "    <tr>\n",
       "      <th>6275</th>\n",
       "      <td>156</td>\n",
       "      <td>anorectal</td>\n",
       "      <td>ORGAN</td>\n",
       "    </tr>\n",
       "    <tr>\n",
       "      <th>6276</th>\n",
       "      <td>156</td>\n",
       "      <td>patient</td>\n",
       "      <td>ORGANISM</td>\n",
       "    </tr>\n",
       "    <tr>\n",
       "      <th>6277</th>\n",
       "      <td>156</td>\n",
       "      <td>cecum.recommendations:1</td>\n",
       "      <td>GENE_OR_GENE_PRODUCT</td>\n",
       "    </tr>\n",
       "  </tbody>\n",
       "</table>\n",
       "<p>6278 rows × 3 columns</p>\n",
       "</div>"
      ],
      "text/plain": [
       "      doi                   Entity                   Class\n",
       "0       0                  abdomen                   ORGAN\n",
       "1       0              pelvis w&wo                  CANCER\n",
       "2       0                    graft                  TISSUE\n",
       "3       0                  abdomen                   ORGAN\n",
       "4       0                   pelvis                   ORGAN\n",
       "...   ...                      ...                     ...\n",
       "6273  156            sigmoid colon                  TISSUE\n",
       "6274  156             inflammation  PATHOLOGICAL_FORMATION\n",
       "6275  156                anorectal                   ORGAN\n",
       "6276  156                  patient                ORGANISM\n",
       "6277  156  cecum.recommendations:1    GENE_OR_GENE_PRODUCT\n",
       "\n",
       "[6278 rows x 3 columns]"
      ]
     },
     "execution_count": 35,
     "metadata": {},
     "output_type": "execute_result"
    }
   ],
   "source": [
    "#Create lists\n",
    "doiList = df.index.tolist()\n",
    "abstractList = note_clean\n",
    "\n",
    "\n",
    "table = add_bi(abstractList, doiList)\n",
    "\n",
    "\n",
    "\n",
    "#Turn table into an exportable CSV file (returns normalized file of entity/value pairs)\n",
    "trans_df = pd.DataFrame(table)\n",
    "trans_df"
   ]
  },
  {
   "cell_type": "code",
   "execution_count": 36,
   "metadata": {},
   "outputs": [
    {
     "data": {
      "text/html": [
       "<div>\n",
       "<style scoped>\n",
       "    .dataframe tbody tr th:only-of-type {\n",
       "        vertical-align: middle;\n",
       "    }\n",
       "\n",
       "    .dataframe tbody tr th {\n",
       "        vertical-align: top;\n",
       "    }\n",
       "\n",
       "    .dataframe thead th {\n",
       "        text-align: right;\n",
       "    }\n",
       "</style>\n",
       "<table border=\"1\" class=\"dataframe\">\n",
       "  <thead>\n",
       "    <tr style=\"text-align: right;\">\n",
       "      <th></th>\n",
       "      <th>Entity</th>\n",
       "    </tr>\n",
       "  </thead>\n",
       "  <tbody>\n",
       "    <tr>\n",
       "      <th>patient</th>\n",
       "      <td>712</td>\n",
       "    </tr>\n",
       "    <tr>\n",
       "      <th>abdomen</th>\n",
       "      <td>140</td>\n",
       "    </tr>\n",
       "    <tr>\n",
       "      <th>stomach</th>\n",
       "      <td>120</td>\n",
       "    </tr>\n",
       "    <tr>\n",
       "      <th>colon</th>\n",
       "      <td>106</td>\n",
       "    </tr>\n",
       "    <tr>\n",
       "      <th>bowel</th>\n",
       "      <td>105</td>\n",
       "    </tr>\n",
       "    <tr>\n",
       "      <th>...</th>\n",
       "      <td>...</td>\n",
       "    </tr>\n",
       "    <tr>\n",
       "      <th>legs</th>\n",
       "      <td>5</td>\n",
       "    </tr>\n",
       "    <tr>\n",
       "      <th>cardiac</th>\n",
       "      <td>5</td>\n",
       "    </tr>\n",
       "    <tr>\n",
       "      <th>fentanyl</th>\n",
       "      <td>5</td>\n",
       "    </tr>\n",
       "    <tr>\n",
       "      <th>caudad</th>\n",
       "      <td>5</td>\n",
       "    </tr>\n",
       "    <tr>\n",
       "      <th>pancreatic</th>\n",
       "      <td>5</td>\n",
       "    </tr>\n",
       "  </tbody>\n",
       "</table>\n",
       "<p>195 rows × 1 columns</p>\n",
       "</div>"
      ],
      "text/plain": [
       "            Entity\n",
       "patient        712\n",
       "abdomen        140\n",
       "stomach        120\n",
       "colon          106\n",
       "bowel          105\n",
       "...            ...\n",
       "legs             5\n",
       "cardiac          5\n",
       "fentanyl         5\n",
       "caudad           5\n",
       "pancreatic       5\n",
       "\n",
       "[195 rows x 1 columns]"
      ]
     },
     "execution_count": 36,
     "metadata": {},
     "output_type": "execute_result"
    }
   ],
   "source": [
    "ent_cnt=trans_df['Entity'].value_counts()\n",
    "\n",
    "\n",
    "ent_cnt=pd.DataFrame(ent_cnt)\n",
    "ent_cnt=ent_cnt.loc[ent_cnt.Entity>4]\n",
    "ent_cnt"
   ]
  },
  {
   "cell_type": "markdown",
   "metadata": {},
   "source": [
    "## 2.3 Extract target entities from each sentence and convert it into df"
   ]
  },
  {
   "cell_type": "code",
   "execution_count": 37,
   "metadata": {},
   "outputs": [],
   "source": [
    "ent_list=list(ent_cnt.index)"
   ]
  },
  {
   "cell_type": "code",
   "execution_count": 38,
   "metadata": {},
   "outputs": [],
   "source": [
    "sents=[]\n",
    "for text in note_clean:\n",
    "    doc=nlp(text)\n",
    "    for sent in doc.sents:\n",
    "        sents.append(sent)\n",
    "        \n",
    "ent_pair=[]\n",
    "for sent in sents:\n",
    "    doc=nlp(sent.text)\n",
    "    ent_pair_s=[]\n",
    "    for ent in doc.ents:\n",
    "        ent=ent.text\n",
    "        if ent in ent_list:\n",
    "            ent_pair_s.append(ent)\n",
    "            ent_pair.append(ent_pair_s)\n",
    "        else:\n",
    "            pass\n",
    "    "
   ]
  },
  {
   "cell_type": "code",
   "execution_count": 39,
   "metadata": {},
   "outputs": [],
   "source": [
    "ent_pair_df=pd.DataFrame(ent_pair)"
   ]
  },
  {
   "cell_type": "code",
   "execution_count": 40,
   "metadata": {},
   "outputs": [
    {
     "data": {
      "text/html": [
       "<div>\n",
       "<style scoped>\n",
       "    .dataframe tbody tr th:only-of-type {\n",
       "        vertical-align: middle;\n",
       "    }\n",
       "\n",
       "    .dataframe tbody tr th {\n",
       "        vertical-align: top;\n",
       "    }\n",
       "\n",
       "    .dataframe thead th {\n",
       "        text-align: right;\n",
       "    }\n",
       "</style>\n",
       "<table border=\"1\" class=\"dataframe\">\n",
       "  <thead>\n",
       "    <tr style=\"text-align: right;\">\n",
       "      <th></th>\n",
       "      <th>0</th>\n",
       "      <th>1</th>\n",
       "      <th>2</th>\n",
       "      <th>3</th>\n",
       "      <th>4</th>\n",
       "      <th>5</th>\n",
       "      <th>6</th>\n",
       "      <th>7</th>\n",
       "      <th>8</th>\n",
       "    </tr>\n",
       "  </thead>\n",
       "  <tbody>\n",
       "    <tr>\n",
       "      <th>0</th>\n",
       "      <td>abdomen</td>\n",
       "      <td>pelvis</td>\n",
       "      <td>None</td>\n",
       "      <td>None</td>\n",
       "      <td>None</td>\n",
       "      <td>None</td>\n",
       "      <td>None</td>\n",
       "      <td>None</td>\n",
       "      <td>None</td>\n",
       "    </tr>\n",
       "    <tr>\n",
       "      <th>1</th>\n",
       "      <td>abdomen</td>\n",
       "      <td>pelvis</td>\n",
       "      <td>None</td>\n",
       "      <td>None</td>\n",
       "      <td>None</td>\n",
       "      <td>None</td>\n",
       "      <td>None</td>\n",
       "      <td>None</td>\n",
       "      <td>None</td>\n",
       "    </tr>\n",
       "    <tr>\n",
       "      <th>2</th>\n",
       "      <td>abdomen</td>\n",
       "      <td>pelvis</td>\n",
       "      <td>None</td>\n",
       "      <td>None</td>\n",
       "      <td>None</td>\n",
       "      <td>None</td>\n",
       "      <td>None</td>\n",
       "      <td>None</td>\n",
       "      <td>None</td>\n",
       "    </tr>\n",
       "    <tr>\n",
       "      <th>3</th>\n",
       "      <td>abdomen</td>\n",
       "      <td>pelvis</td>\n",
       "      <td>None</td>\n",
       "      <td>None</td>\n",
       "      <td>None</td>\n",
       "      <td>None</td>\n",
       "      <td>None</td>\n",
       "      <td>None</td>\n",
       "      <td>None</td>\n",
       "    </tr>\n",
       "    <tr>\n",
       "      <th>4</th>\n",
       "      <td>rectal</td>\n",
       "      <td>None</td>\n",
       "      <td>None</td>\n",
       "      <td>None</td>\n",
       "      <td>None</td>\n",
       "      <td>None</td>\n",
       "      <td>None</td>\n",
       "      <td>None</td>\n",
       "      <td>None</td>\n",
       "    </tr>\n",
       "    <tr>\n",
       "      <th>...</th>\n",
       "      <td>...</td>\n",
       "      <td>...</td>\n",
       "      <td>...</td>\n",
       "      <td>...</td>\n",
       "      <td>...</td>\n",
       "      <td>...</td>\n",
       "      <td>...</td>\n",
       "      <td>...</td>\n",
       "      <td>...</td>\n",
       "    </tr>\n",
       "    <tr>\n",
       "      <th>3037</th>\n",
       "      <td>lesions</td>\n",
       "      <td>None</td>\n",
       "      <td>None</td>\n",
       "      <td>None</td>\n",
       "      <td>None</td>\n",
       "      <td>None</td>\n",
       "      <td>None</td>\n",
       "      <td>None</td>\n",
       "      <td>None</td>\n",
       "    </tr>\n",
       "    <tr>\n",
       "      <th>3038</th>\n",
       "      <td>sigmoid</td>\n",
       "      <td>colon</td>\n",
       "      <td>inflammation</td>\n",
       "      <td>None</td>\n",
       "      <td>None</td>\n",
       "      <td>None</td>\n",
       "      <td>None</td>\n",
       "      <td>None</td>\n",
       "      <td>None</td>\n",
       "    </tr>\n",
       "    <tr>\n",
       "      <th>3039</th>\n",
       "      <td>sigmoid</td>\n",
       "      <td>colon</td>\n",
       "      <td>inflammation</td>\n",
       "      <td>None</td>\n",
       "      <td>None</td>\n",
       "      <td>None</td>\n",
       "      <td>None</td>\n",
       "      <td>None</td>\n",
       "      <td>None</td>\n",
       "    </tr>\n",
       "    <tr>\n",
       "      <th>3040</th>\n",
       "      <td>sigmoid</td>\n",
       "      <td>colon</td>\n",
       "      <td>inflammation</td>\n",
       "      <td>None</td>\n",
       "      <td>None</td>\n",
       "      <td>None</td>\n",
       "      <td>None</td>\n",
       "      <td>None</td>\n",
       "      <td>None</td>\n",
       "    </tr>\n",
       "    <tr>\n",
       "      <th>3041</th>\n",
       "      <td>patient</td>\n",
       "      <td>None</td>\n",
       "      <td>None</td>\n",
       "      <td>None</td>\n",
       "      <td>None</td>\n",
       "      <td>None</td>\n",
       "      <td>None</td>\n",
       "      <td>None</td>\n",
       "      <td>None</td>\n",
       "    </tr>\n",
       "  </tbody>\n",
       "</table>\n",
       "<p>3042 rows × 9 columns</p>\n",
       "</div>"
      ],
      "text/plain": [
       "            0       1             2     3     4     5     6     7     8\n",
       "0     abdomen  pelvis          None  None  None  None  None  None  None\n",
       "1     abdomen  pelvis          None  None  None  None  None  None  None\n",
       "2     abdomen  pelvis          None  None  None  None  None  None  None\n",
       "3     abdomen  pelvis          None  None  None  None  None  None  None\n",
       "4      rectal    None          None  None  None  None  None  None  None\n",
       "...       ...     ...           ...   ...   ...   ...   ...   ...   ...\n",
       "3037  lesions    None          None  None  None  None  None  None  None\n",
       "3038  sigmoid   colon  inflammation  None  None  None  None  None  None\n",
       "3039  sigmoid   colon  inflammation  None  None  None  None  None  None\n",
       "3040  sigmoid   colon  inflammation  None  None  None  None  None  None\n",
       "3041  patient    None          None  None  None  None  None  None  None\n",
       "\n",
       "[3042 rows x 9 columns]"
      ]
     },
     "execution_count": 40,
     "metadata": {},
     "output_type": "execute_result"
    }
   ],
   "source": [
    "ent_pair_df"
   ]
  },
  {
   "cell_type": "markdown",
   "metadata": {},
   "source": [
    "## 3. Generate 'edges' and 'nodes' dataframe and store it as csv"
   ]
  },
  {
   "cell_type": "code",
   "execution_count": 41,
   "metadata": {},
   "outputs": [],
   "source": [
    "pairs=[]\n",
    "for i in range(len(ent_pair_df)):\n",
    "    base=ent_pair_df.loc[i,0]\n",
    "    for j in range(len(ent_pair_df.columns)):\n",
    "        if (ent_pair_df.loc[i,j]!=None) and (ent_pair_df.loc[i,j]!=base):\n",
    "            ent=ent_pair_df.loc[i,j]\n",
    "            pair=[base,ent]\n",
    "            pairs.append(pair)\n",
    "\n",
    "            \n",
    "    "
   ]
  },
  {
   "cell_type": "code",
   "execution_count": 100,
   "metadata": {},
   "outputs": [
    {
     "data": {
      "text/html": [
       "<div>\n",
       "<style scoped>\n",
       "    .dataframe tbody tr th:only-of-type {\n",
       "        vertical-align: middle;\n",
       "    }\n",
       "\n",
       "    .dataframe tbody tr th {\n",
       "        vertical-align: top;\n",
       "    }\n",
       "\n",
       "    .dataframe thead th {\n",
       "        text-align: right;\n",
       "    }\n",
       "</style>\n",
       "<table border=\"1\" class=\"dataframe\">\n",
       "  <thead>\n",
       "    <tr style=\"text-align: right;\">\n",
       "      <th></th>\n",
       "      <th>source</th>\n",
       "      <th>target</th>\n",
       "    </tr>\n",
       "  </thead>\n",
       "  <tbody>\n",
       "    <tr>\n",
       "      <th>0</th>\n",
       "      <td>abdomen</td>\n",
       "      <td>pelvis</td>\n",
       "    </tr>\n",
       "    <tr>\n",
       "      <th>1</th>\n",
       "      <td>abdomen</td>\n",
       "      <td>pelvis</td>\n",
       "    </tr>\n",
       "    <tr>\n",
       "      <th>2</th>\n",
       "      <td>abdomen</td>\n",
       "      <td>pelvis</td>\n",
       "    </tr>\n",
       "    <tr>\n",
       "      <th>3</th>\n",
       "      <td>abdomen</td>\n",
       "      <td>pelvis</td>\n",
       "    </tr>\n",
       "    <tr>\n",
       "      <th>4</th>\n",
       "      <td>abdomen</td>\n",
       "      <td>pelvis</td>\n",
       "    </tr>\n",
       "    <tr>\n",
       "      <th>...</th>\n",
       "      <td>...</td>\n",
       "      <td>...</td>\n",
       "    </tr>\n",
       "    <tr>\n",
       "      <th>3371</th>\n",
       "      <td>sigmoid</td>\n",
       "      <td>inflammation</td>\n",
       "    </tr>\n",
       "    <tr>\n",
       "      <th>3372</th>\n",
       "      <td>sigmoid</td>\n",
       "      <td>colon</td>\n",
       "    </tr>\n",
       "    <tr>\n",
       "      <th>3373</th>\n",
       "      <td>sigmoid</td>\n",
       "      <td>inflammation</td>\n",
       "    </tr>\n",
       "    <tr>\n",
       "      <th>3374</th>\n",
       "      <td>sigmoid</td>\n",
       "      <td>colon</td>\n",
       "    </tr>\n",
       "    <tr>\n",
       "      <th>3375</th>\n",
       "      <td>sigmoid</td>\n",
       "      <td>inflammation</td>\n",
       "    </tr>\n",
       "  </tbody>\n",
       "</table>\n",
       "<p>3376 rows × 2 columns</p>\n",
       "</div>"
      ],
      "text/plain": [
       "       source        target\n",
       "0     abdomen        pelvis\n",
       "1     abdomen        pelvis\n",
       "2     abdomen        pelvis\n",
       "3     abdomen        pelvis\n",
       "4     abdomen        pelvis\n",
       "...       ...           ...\n",
       "3371  sigmoid  inflammation\n",
       "3372  sigmoid         colon\n",
       "3373  sigmoid  inflammation\n",
       "3374  sigmoid         colon\n",
       "3375  sigmoid  inflammation\n",
       "\n",
       "[3376 rows x 2 columns]"
      ]
     },
     "execution_count": 100,
     "metadata": {},
     "output_type": "execute_result"
    }
   ],
   "source": [
    "edges=pd.DataFrame(pairs,columns=['source','target'])\n",
    "edges"
   ]
  },
  {
   "cell_type": "code",
   "execution_count": 64,
   "metadata": {},
   "outputs": [],
   "source": [
    "s_count=edges['source'].value_counts()\n",
    "t_count=edges['target'].value_counts()"
   ]
  },
  {
   "cell_type": "code",
   "execution_count": 96,
   "metadata": {},
   "outputs": [],
   "source": [
    "node_names=[]\n",
    "node_counts=[]\n",
    "for node_s in s_count.index:\n",
    "    for node_t in t_count.index:\n",
    "        if node_s==node_t:\n",
    "            node_count=s_count[node_s]+t_count[node_s]\n",
    "            node_counts.append(node_count)\n",
    "            node_names.append(node_s)\n",
    "        else:\n",
    "            pass\n",
    "    if node_s not in node_names:\n",
    "        node_names.append(node_s)\n",
    "        node_counts.append(s_count[node_s])\n",
    "for node_t in t_count.index:\n",
    "    if node_t not in node_names:\n",
    "        node_names.append(node_t)\n",
    "        node_counts.append(t_count[node_t])"
   ]
  },
  {
   "cell_type": "code",
   "execution_count": 146,
   "metadata": {},
   "outputs": [],
   "source": [
    "nodes= pd.DataFrame(np.column_stack([node_names, node_counts,node_classes]), \n",
    "                               columns=['name', 'nodesize','group'])"
   ]
  },
  {
   "cell_type": "code",
   "execution_count": 147,
   "metadata": {},
   "outputs": [],
   "source": [
    "nodes.to_csv('node.csv',index=False)\n",
    "edges.to_csv('edge.csv',index=False)"
   ]
  },
  {
   "cell_type": "code",
   "execution_count": 141,
   "metadata": {},
   "outputs": [
    {
     "data": {
      "text/html": [
       "<div>\n",
       "<style scoped>\n",
       "    .dataframe tbody tr th:only-of-type {\n",
       "        vertical-align: middle;\n",
       "    }\n",
       "\n",
       "    .dataframe tbody tr th {\n",
       "        vertical-align: top;\n",
       "    }\n",
       "\n",
       "    .dataframe thead th {\n",
       "        text-align: right;\n",
       "    }\n",
       "</style>\n",
       "<table border=\"1\" class=\"dataframe\">\n",
       "  <thead>\n",
       "    <tr style=\"text-align: right;\">\n",
       "      <th></th>\n",
       "      <th>doi</th>\n",
       "      <th>Entity</th>\n",
       "      <th>Class</th>\n",
       "    </tr>\n",
       "  </thead>\n",
       "  <tbody>\n",
       "    <tr>\n",
       "      <th>0</th>\n",
       "      <td>0</td>\n",
       "      <td>abdomen</td>\n",
       "      <td>ORGAN</td>\n",
       "    </tr>\n",
       "    <tr>\n",
       "      <th>1</th>\n",
       "      <td>0</td>\n",
       "      <td>pelvis w&amp;wo</td>\n",
       "      <td>CANCER</td>\n",
       "    </tr>\n",
       "    <tr>\n",
       "      <th>2</th>\n",
       "      <td>0</td>\n",
       "      <td>graft</td>\n",
       "      <td>TISSUE</td>\n",
       "    </tr>\n",
       "    <tr>\n",
       "      <th>3</th>\n",
       "      <td>0</td>\n",
       "      <td>abdomen</td>\n",
       "      <td>ORGAN</td>\n",
       "    </tr>\n",
       "    <tr>\n",
       "      <th>4</th>\n",
       "      <td>0</td>\n",
       "      <td>pelvis</td>\n",
       "      <td>ORGAN</td>\n",
       "    </tr>\n",
       "    <tr>\n",
       "      <th>...</th>\n",
       "      <td>...</td>\n",
       "      <td>...</td>\n",
       "      <td>...</td>\n",
       "    </tr>\n",
       "    <tr>\n",
       "      <th>6273</th>\n",
       "      <td>156</td>\n",
       "      <td>sigmoid colon</td>\n",
       "      <td>TISSUE</td>\n",
       "    </tr>\n",
       "    <tr>\n",
       "      <th>6274</th>\n",
       "      <td>156</td>\n",
       "      <td>inflammation</td>\n",
       "      <td>PATHOLOGICAL_FORMATION</td>\n",
       "    </tr>\n",
       "    <tr>\n",
       "      <th>6275</th>\n",
       "      <td>156</td>\n",
       "      <td>anorectal</td>\n",
       "      <td>ORGAN</td>\n",
       "    </tr>\n",
       "    <tr>\n",
       "      <th>6276</th>\n",
       "      <td>156</td>\n",
       "      <td>patient</td>\n",
       "      <td>ORGANISM</td>\n",
       "    </tr>\n",
       "    <tr>\n",
       "      <th>6277</th>\n",
       "      <td>156</td>\n",
       "      <td>cecum.recommendations:1</td>\n",
       "      <td>GENE_OR_GENE_PRODUCT</td>\n",
       "    </tr>\n",
       "  </tbody>\n",
       "</table>\n",
       "<p>6278 rows × 3 columns</p>\n",
       "</div>"
      ],
      "text/plain": [
       "      doi                   Entity                   Class\n",
       "0       0                  abdomen                   ORGAN\n",
       "1       0              pelvis w&wo                  CANCER\n",
       "2       0                    graft                  TISSUE\n",
       "3       0                  abdomen                   ORGAN\n",
       "4       0                   pelvis                   ORGAN\n",
       "...   ...                      ...                     ...\n",
       "6273  156            sigmoid colon                  TISSUE\n",
       "6274  156             inflammation  PATHOLOGICAL_FORMATION\n",
       "6275  156                anorectal                   ORGAN\n",
       "6276  156                  patient                ORGANISM\n",
       "6277  156  cecum.recommendations:1    GENE_OR_GENE_PRODUCT\n",
       "\n",
       "[6278 rows x 3 columns]"
      ]
     },
     "execution_count": 141,
     "metadata": {},
     "output_type": "execute_result"
    }
   ],
   "source": [
    "trans_df"
   ]
  },
  {
   "cell_type": "raw",
   "metadata": {},
   "source": [
    "node_classes=[]\n",
    "for name in node_names:\n",
    "    for i in range (len(trans_df.Entity.index)):\n",
    "        if name==trans_df.Entity[i]:\n",
    "            node_class=trans_df.Class[i]\n",
    "    node_classes.append(node_class)\n",
    "        \n",
    "len(node_classes)"
   ]
  }
 ],
 "metadata": {
  "kernelspec": {
   "display_name": "Python 3",
   "language": "python",
   "name": "python3"
  },
  "language_info": {
   "codemirror_mode": {
    "name": "ipython",
    "version": 3
   },
   "file_extension": ".py",
   "mimetype": "text/x-python",
   "name": "python",
   "nbconvert_exporter": "python",
   "pygments_lexer": "ipython3",
   "version": "3.8.3"
  }
 },
 "nbformat": 4,
 "nbformat_minor": 4
}
